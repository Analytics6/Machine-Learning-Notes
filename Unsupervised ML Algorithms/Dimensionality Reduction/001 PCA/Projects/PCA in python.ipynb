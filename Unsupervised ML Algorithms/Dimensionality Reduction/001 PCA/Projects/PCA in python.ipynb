{
 "cells": [
  {
   "cell_type": "markdown",
   "metadata": {},
   "source": [
    "#### Step 1: Generate a dummy data set"
   ]
  },
  {
   "cell_type": "code",
   "execution_count": 96,
   "metadata": {},
   "outputs": [
    {
     "name": "stdout",
     "output_type": "stream",
     "text": [
      "     0    1\n",
      "0  2.5  2.4\n",
      "1  0.5  0.7\n",
      "2  2.2  2.9\n",
      "3  1.9  2.2\n",
      "4  3.1  3.0\n",
      "5  2.3  2.7\n",
      "6  2.0  1.6\n",
      "7  1.0  1.1\n",
      "8  1.5  1.6\n",
      "9  1.1  0.9\n"
     ]
    }
   ],
   "source": [
    "import numpy as np\n",
    "import pandas as pd\n",
    "#X = np.random.randint(10,50,100).reshape(20,5) \n",
    "X = [[2.5,2.4],[0.5,0.7],[2.2,2.9],[1.9,2.2],[3.1,3.0],[2.3,2.7],[2,1.6],[1,1.1],[1.5,1.6],[1.1,0.9]]\n",
    "\n",
    "X=pd.DataFrame(X)\n",
    "print(X)"
   ]
  },
  {
   "cell_type": "code",
   "execution_count": 77,
   "metadata": {},
   "outputs": [
    {
     "data": {
      "text/plain": [
       "Text(0, 0.5, 'y')"
      ]
     },
     "execution_count": 77,
     "metadata": {},
     "output_type": "execute_result"
    },
    {
     "data": {
      "image/png": "[encoded data removed]",
      "text/plain": [
       "<Figure size 432x288 with 1 Axes>"
      ]
     },
     "metadata": {
      "needs_background": "light"
     },
     "output_type": "display_data"
    }
   ],
   "source": [
    "plt.scatter(X[0],X[1], color = \"r\")\n",
    "plt.xlabel('x')\n",
    "plt.ylabel('y')\n"
   ]
  },
  {
   "cell_type": "code",
   "execution_count": 92,
   "metadata": {},
   "outputs": [
    {
     "name": "stdout",
     "output_type": "stream",
     "text": [
      "0    0.69\n",
      "1   -1.31\n",
      "2    0.39\n",
      "3    0.09\n",
      "4    1.29\n",
      "5    0.49\n",
      "6    0.19\n",
      "7   -0.81\n",
      "8   -0.31\n",
      "9   -0.71\n",
      "Name: 0, dtype: float64\n",
      "0    0.49\n",
      "1   -1.21\n",
      "2    0.99\n",
      "3    0.29\n",
      "4    1.09\n",
      "5    0.79\n",
      "6   -0.31\n",
      "7   -0.81\n",
      "8   -0.31\n",
      "9   -1.01\n",
      "Name: 1, dtype: float64\n"
     ]
    },
    {
     "data": {
      "image/png": "[encoded data removed]",
      "text/plain": [
       "<Figure size 432x288 with 1 Axes>"
      ]
     },
     "metadata": {
      "needs_background": "light"
     },
     "output_type": "display_data"
    }
   ],
   "source": [
    "# calculating mean and finding the deviation of the data from mean\n",
    "X_meaned = X - np.mean(X , axis = 0)\n",
    "print(X_meaned[0])\n",
    "X_meaned=pd.DataFrame(X_meaned)\n",
    "plt.scatter(X[0],X[1], color = \"r\")\n",
    "plt.scatter(X_meaned[0],X_meaned[1], color = \"g\")\n",
    "plt.xlabel('x')\n",
    "plt.ylabel('y')\n",
    "plt.show()"
   ]
  },
  {
   "cell_type": "markdown",
   "metadata": {},
   "source": [
    "####  Step 2 : Calculate the Covariance Matrix \n",
    "##### it outputs a 5x5 matrix"
   ]
  },
  {
   "cell_type": "code",
   "execution_count": 80,
   "metadata": {},
   "outputs": [
    {
     "name": "stdout",
     "output_type": "stream",
     "text": [
      "[[0.61655556 0.61544444]\n",
      " [0.61544444 0.71655556]]\n"
     ]
    }
   ],
   "source": [
    "# calculating the covariance matrix of the mean-centered data.\n",
    "cov_mat = np.cov(X_meaned , rowvar = False)\n",
    "print(cov_mat)"
   ]
  },
  {
   "attachments": {},
   "cell_type": "markdown",
   "metadata": {},
   "source": [
    "#### Compute the Eigen values and Eigen vectors\n"
   ]
  },
  {
   "cell_type": "code",
   "execution_count": 81,
   "metadata": {},
   "outputs": [
    {
     "name": "stdout",
     "output_type": "stream",
     "text": [
      "[0.0490834  1.28402771]\n",
      "[[-0.73517866  0.6778734 ]\n",
      " [ 0.6778734   0.73517866]]\n"
     ]
    }
   ],
   "source": [
    "#Calculating Eigenvalues and Eigenvectors of the covariance matrix\n",
    "eigen_values , eigen_vectors = np.linalg.eigh(cov_mat)\n",
    "print(eigen_values)\n",
    "print(eigen_vectors)"
   ]
  },
  {
   "cell_type": "markdown",
   "metadata": {},
   "source": [
    "#### Sort Eigenvalues in descending order"
   ]
  },
  {
   "cell_type": "code",
   "execution_count": 112,
   "metadata": {},
   "outputs": [
    {
     "name": "stdout",
     "output_type": "stream",
     "text": [
      "[1 0]\n",
      "[1.28402771 0.0490834 ]\n",
      "[[ 0.6778734  -0.73517866]\n",
      " [ 0.73517866  0.6778734 ]]\n",
      "          0         1\n",
      "0  0.677873 -0.735179\n",
      "1  0.735179  0.677873\n"
     ]
    }
   ],
   "source": [
    "#sort the eigenvalues in descending order\n",
    "sorted_index = np.argsort(eigen_values)[::-1]\n",
    "print (sorted_index)\n",
    "    \n",
    "sorted_eigenvalue = eigen_values[sorted_index]\n",
    "print (sorted_eigenvalue)\n",
    "#similarly sort the eigenvectors \n",
    "sorted_eigenvectors = eigen_vectors[:,sorted_index]\n",
    "print (sorted_eigenvectors)\n",
    "sorted_eigenvectors=pd.DataFrame(sorted_eigenvectors)\n",
    "print (sorted_eigenvectors)"
   ]
  },
  {
   "cell_type": "markdown",
   "metadata": {},
   "source": [
    "#### Step 5: Select a subset from the rearranged Eigenvalue matrix\n",
    "#### select the first n eigenvectors, n is desired dimension (select n =2)"
   ]
  },
  {
   "cell_type": "code",
   "execution_count": 108,
   "metadata": {},
   "outputs": [
    {
     "name": "stdout",
     "output_type": "stream",
     "text": [
      "[[ 0.6778734  -0.73517866]\n",
      " [ 0.73517866  0.6778734 ]]\n"
     ]
    }
   ],
   "source": [
    "n_components = 2 #you can select any number of components.\n",
    "eigenvector_subset = sorted_eigenvectors[:,0:n_components]\n",
    "print(eigenvector_subset)"
   ]
  },
  {
   "cell_type": "markdown",
   "metadata": {},
   "source": [
    "#### Step 6. Transform the data"
   ]
  },
  {
   "cell_type": "code",
   "execution_count": 109,
   "metadata": {
    "scrolled": true
   },
   "outputs": [
    {
     "name": "stdout",
     "output_type": "stream",
     "text": [
      "[[ 0.82797019 -0.17511531]\n",
      " [-1.77758033  0.14285723]\n",
      " [ 0.99219749  0.38437499]\n",
      " [ 0.27421042  0.13041721]\n",
      " [ 1.67580142 -0.20949846]\n",
      " [ 0.9129491   0.17528244]\n",
      " [-0.09910944 -0.3498247 ]\n",
      " [-1.14457216  0.04641726]\n",
      " [-0.43804614  0.01776463]\n",
      " [-1.22382056 -0.16267529]]\n"
     ]
    }
   ],
   "source": [
    "#Transform the data \n",
    "X_reduced = np.dot(eigenvector_subset.transpose(),X_meaned.transpose()).transpose()\n",
    "print(X_reduced)\n",
    "X_reduced = pd.DataFrame(X_reduced)\n"
   ]
  },
  {
   "cell_type": "code",
   "execution_count": 106,
   "metadata": {},
   "outputs": [
    {
     "data": {
      "text/html": [
       "<div>\n",
       "<style scoped>\n",
       "    .dataframe tbody tr th:only-of-type {\n",
       "        vertical-align: middle;\n",
       "    }\n",
       "\n",
       "    .dataframe tbody tr th {\n",
       "        vertical-align: top;\n",
       "    }\n",
       "\n",
       "    .dataframe thead th {\n",
       "        text-align: right;\n",
       "    }\n",
       "</style>\n",
       "<table border=\"1\" class=\"dataframe\">\n",
       "  <thead>\n",
       "    <tr style=\"text-align: right;\">\n",
       "      <th></th>\n",
       "      <th>0</th>\n",
       "    </tr>\n",
       "  </thead>\n",
       "  <tbody>\n",
       "    <tr>\n",
       "      <th>0</th>\n",
       "      <td>0.827970</td>\n",
       "    </tr>\n",
       "    <tr>\n",
       "      <th>1</th>\n",
       "      <td>-1.777580</td>\n",
       "    </tr>\n",
       "    <tr>\n",
       "      <th>2</th>\n",
       "      <td>0.992197</td>\n",
       "    </tr>\n",
       "    <tr>\n",
       "      <th>3</th>\n",
       "      <td>0.274210</td>\n",
       "    </tr>\n",
       "    <tr>\n",
       "      <th>4</th>\n",
       "      <td>1.675801</td>\n",
       "    </tr>\n",
       "    <tr>\n",
       "      <th>5</th>\n",
       "      <td>0.912949</td>\n",
       "    </tr>\n",
       "    <tr>\n",
       "      <th>6</th>\n",
       "      <td>-0.099109</td>\n",
       "    </tr>\n",
       "    <tr>\n",
       "      <th>7</th>\n",
       "      <td>-1.144572</td>\n",
       "    </tr>\n",
       "    <tr>\n",
       "      <th>8</th>\n",
       "      <td>-0.438046</td>\n",
       "    </tr>\n",
       "    <tr>\n",
       "      <th>9</th>\n",
       "      <td>-1.223821</td>\n",
       "    </tr>\n",
       "  </tbody>\n",
       "</table>\n",
       "</div>"
      ],
      "text/plain": [
       "          0\n",
       "0  0.827970\n",
       "1 -1.777580\n",
       "2  0.992197\n",
       "3  0.274210\n",
       "4  1.675801\n",
       "5  0.912949\n",
       "6 -0.099109\n",
       "7 -1.144572\n",
       "8 -0.438046\n",
       "9 -1.223821"
      ]
     },
     "execution_count": 106,
     "metadata": {},
     "output_type": "execute_result"
    }
   ],
   "source": [
    "X_reduced"
   ]
  },
  {
   "cell_type": "code",
   "execution_count": 110,
   "metadata": {},
   "outputs": [
    {
     "data": {
      "image/png": "[encoded data removed]",
      "text/plain": [
       "<Figure size 432x288 with 1 Axes>"
      ]
     },
     "metadata": {
      "needs_background": "light"
     },
     "output_type": "display_data"
    }
   ],
   "source": [
    " plt.scatter(X_reduced[:][0],X_reduced[:][1], color = \"r\")\n",
    "# plt.scatter(X_reduced, color = \"r\")\n",
    "plt.xlabel('x')\n",
    "plt.ylabel('y')\n",
    "plt.show()"
   ]
  },
  {
   "cell_type": "code",
   "execution_count": null,
   "metadata": {},
   "outputs": [],
   "source": []
  }
 ],
 "metadata": {
  "kernelspec": {
   "display_name": "Python 3",
   "language": "python",
   "name": "python3"
  },
  "language_info": {
   "codemirror_mode": {
    "name": "ipython",
    "version": 3
   },
   "file_extension": ".py",
   "mimetype": "text/x-python",
   "name": "python",
   "nbconvert_exporter": "python",
   "pygments_lexer": "ipython3",
   "version": "3.8.5"
  }
 },
 "nbformat": 4,
 "nbformat_minor": 4
}
